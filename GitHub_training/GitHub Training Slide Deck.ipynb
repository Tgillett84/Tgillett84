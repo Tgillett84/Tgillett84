{
 "cells": [
  {
   "cell_type": "code",
   "execution_count": 6,
   "id": "d58a9e89",
   "metadata": {},
   "outputs": [
    {
     "ename": "ModuleNotFoundError",
     "evalue": "No module named 'aspose'",
     "output_type": "error",
     "traceback": [
      "\u001b[1;31m---------------------------------------------------------------------------\u001b[0m",
      "\u001b[1;31mModuleNotFoundError\u001b[0m                       Traceback (most recent call last)",
      "\u001b[1;32m<ipython-input-6-e70a724b1cf8>\u001b[0m in \u001b[0;36m<module>\u001b[1;34m\u001b[0m\n\u001b[1;32m----> 1\u001b[1;33m \u001b[1;32mimport\u001b[0m \u001b[0maspose\u001b[0m\u001b[1;33m.\u001b[0m\u001b[0mslides\u001b[0m \u001b[1;32mas\u001b[0m \u001b[0mslides\u001b[0m\u001b[1;33m\u001b[0m\u001b[1;33m\u001b[0m\u001b[0m\n\u001b[0m",
      "\u001b[1;31mModuleNotFoundError\u001b[0m: No module named 'aspose'"
     ]
    }
   ],
   "source": [
    "import aspose.slides as slides"
   ]
  },
  {
   "cell_type": "code",
   "execution_count": 8,
   "id": "bb90670f",
   "metadata": {},
   "outputs": [],
   "source": [
    "# Load presentation"
   ]
  },
  {
   "cell_type": "code",
   "execution_count": 3,
   "id": "658ebb21",
   "metadata": {},
   "outputs": [
    {
     "ename": "SyntaxError",
     "evalue": "EOL while scanning string literal (<ipython-input-3-407d701da5c2>, line 4)",
     "output_type": "error",
     "traceback": [
      "\u001b[1;36m  File \u001b[1;32m\"<ipython-input-3-407d701da5c2>\"\u001b[1;36m, line \u001b[1;32m4\u001b[0m\n\u001b[1;33m    GitHubTraining = slides.Presentation(\"C:/Users/tamek/GitHub/Tgillett84/GitHub_training/GitHub Training.pptx)\u001b[0m\n\u001b[1;37m                                                                                                                ^\u001b[0m\n\u001b[1;31mSyntaxError\u001b[0m\u001b[1;31m:\u001b[0m EOL while scanning string literal\n"
     ]
    }
   ],
   "source": [
    "Git HubTraining = slides.Presentation(\"C:/Users/tamek/GitHub/Tgillett84/GitHub_training/GitHub Training.pptx)"
   ]
  },
  {
   "cell_type": "code",
   "execution_count": 9,
   "id": "09b838db",
   "metadata": {},
   "outputs": [
    {
     "ename": "NameError",
     "evalue": "name 'pres' is not defined",
     "output_type": "error",
     "traceback": [
      "\u001b[1;31m---------------------------------------------------------------------------\u001b[0m",
      "\u001b[1;31mNameError\u001b[0m                                 Traceback (most recent call last)",
      "\u001b[1;32m<ipython-input-9-397a08574f78>\u001b[0m in \u001b[0;36m<module>\u001b[1;34m\u001b[0m\n\u001b[0;32m      1\u001b[0m \u001b[1;31m# Convert PPTX to PDF\u001b[0m\u001b[1;33m\u001b[0m\u001b[1;33m\u001b[0m\u001b[1;33m\u001b[0m\u001b[0m\n\u001b[1;32m----> 2\u001b[1;33m \u001b[0mpres\u001b[0m\u001b[1;33m.\u001b[0m\u001b[0msave\u001b[0m\u001b[1;33m(\u001b[0m\u001b[1;34m\"pptx-to-pdf.pdf\"\u001b[0m\u001b[1;33m,\u001b[0m \u001b[0mslides\u001b[0m\u001b[1;33m.\u001b[0m\u001b[0mexport\u001b[0m\u001b[1;33m.\u001b[0m\u001b[0mSaveFormat\u001b[0m\u001b[1;33m.\u001b[0m\u001b[0mPDF\u001b[0m\u001b[1;33m)\u001b[0m\u001b[1;33m\u001b[0m\u001b[1;33m\u001b[0m\u001b[0m\n\u001b[0m",
      "\u001b[1;31mNameError\u001b[0m: name 'pres' is not defined"
     ]
    }
   ],
   "source": [
    "# Convert PPTX to PDF\n",
    "pres.save(\"pptx-to-pdf.pdf\", slides.export.SaveFormat.PDF)"
   ]
  },
  {
   "cell_type": "code",
   "execution_count": null,
   "id": "b5679237",
   "metadata": {},
   "outputs": [],
   "source": [
    "# Powershell script to export Powerpoint Presentations to pdf using the Powerpoint COM API\n",
    "# Based on a VB script with the same purpose\n",
    "# http://superuser.com/questions/641471/how-can-i-automatically-convert-powerpoint-to-pdf\n",
    "\n",
    "\n",
    "function Export-Presentation($GitHub Training)\n",
    "{\n",
    "\t# Load Powerpoint Interop Assembly\n",
    "\t[Reflection.Assembly]::LoadWithPartialname(\"Microsoft.Office.Interop.Powerpoint\") > $null\n",
    "\t[Reflection.Assembly]::LoadWithPartialname(\"Office\") > $null\n",
    "\n",
    "\t$msoFalse =  [Microsoft.Office.Core.MsoTristate]::msoFalse\n",
    "\t$msoTrue =  [Microsoft.Office.Core.MsoTristate]::msoTrue\n",
    "\n",
    "\t$ppFixedFormatIntentScreen = [Microsoft.Office.Interop.PowerPoint.PpFixedFormatIntent]::ppFixedFormatIntentScreen # Intent is to view exported file on screen.\n",
    "\t$ppFixedFormatIntentPrint =  [Microsoft.Office.Interop.PowerPoint.PpFixedFormatIntent]::ppFixedFormatIntentPrint  # Intent is to print exported file.\n",
    "\n",
    "\t$ppFixedFormatTypeXPS = [Microsoft.Office.Interop.PowerPoint.PpFixedFormatType]::ppFixedFormatTypeXPS  # XPS format\n",
    "\t$ppFixedFormatTypePDF = [Microsoft.Office.Interop.PowerPoint.PpFixedFormatType]::ppFixedFormatTypePDF  # PDF format\n",
    "\n",
    "\t$ppPrintHandoutVerticalFirst = 1   # Slides are ordered vertically, with the first slide in the upper-left corner and the second slide below it.\n",
    "\t$ppPrintHandoutHorizontalFirst = 2 # Slides are ordered horizontally, with the first slide in the upper-left corner and the second slide to the right of it.\n",
    "\n",
    "\t$ppPrintOutputSlides = 1               # Slides\n",
    "\t$ppPrintOutputTwoSlideHandouts = 2     # Two Slide Handouts\n",
    "\t$ppPrintOutputThreeSlideHandouts = 3   # Three Slide Handouts\n",
    "\t$ppPrintOutputSixSlideHandouts = 4     # Six Slide Handouts\n",
    "\t$ppPrintOutputNotesPages = 5           # Notes Pages\n",
    "\t$ppPrintOutputOutline = 6              # Outline\n",
    "\t$ppPrintOutputBuildSlides = 7          # Build Slides\n",
    "\t$ppPrintOutputFourSlideHandouts = 8    # Four Slide Handouts\n",
    "\t$ppPrintOutputNineSlideHandouts = 9    # Nine Slide Handouts\n",
    "\t$ppPrintOutputOneSlideHandouts = 10    # Single Slide Handouts\n",
    "\n",
    "\t$ppPrintAll = 1            # Print all slides in the presentation.\n",
    "\t$ppPrintSelection = 2      # Print a selection of slides.\n",
    "\t$ppPrintCurrent = 3        # Print the current slide from the presentation.\n",
    "\t$ppPrintSlideRange = 4     # Print a range of slides.\n",
    "\t$ppPrintNamedSlideShow = 5 # Print a named slideshow.\n",
    "\n",
    "\t$ppShowAll = 1             # Show all.\n",
    "\t$ppShowNamedSlideShow = 3  # Show named slideshow.\n",
    "\t$ppShowSlideRange = 2      # Show slide range.\n",
    "\n",
    "\t\n",
    "\t# start Powerpoint\n",
    "\t$application = New-Object \"Microsoft.Office.Interop.Powerpoint.ApplicationClass\" \n",
    "\n",
    "\t# Make sure inputFile is an absolte path\n",
    "\t$inputFile = Resolve-Path $inputFile\n",
    "\t$outputFile = [System.IO.Path]::ChangeExtension($inputFile, \".pdf\")\n",
    "\t\n",
    "\t$application.Visible = $msoTrue\n",
    "\t$presentation = $application.Presentations.Open($inputFile, $msoTrue, $msoFalse, $msoFalse)\n",
    "\t$printOptions = $presentation.PrintOptions\n",
    "\t$range = $printOptions.Ranges.Add(1,$presentation.Slides.Count) \n",
    "\t$printOptions.RangeType = $ppShowAll\n",
    "\t\n",
    "\t# export presentation to pdf\n",
    "\t$presentation.ExportAsFixedFormat($outputFile, $ppFixedFormatTypePDF, $ppFixedFormatIntentScreen, $msoTrue, $ppPrintHandoutHorizontalFirst, $ppPrintOutputSlides, $msoFalse, $range, $ppPrintAll, \"Slideshow Name\", $False, $False, $False, $False, $False)\n",
    "\t\n",
    "\t$presentation.Close()\n",
    "\t$presentation = $null\n",
    "\t\n",
    "\tif($application.Windows.Count -eq 0)\n",
    "\t{\n",
    "\t\t$application.Quit()\n",
    "\t}\n",
    "\t\n",
    "\t$application = $null\n",
    "\t\n",
    "\t# Make sure references to COM objects are released, otherwise powerpoint might not close\n",
    "\t# (calling the methods twice is intentional, see https://msdn.microsoft.com/en-us/library/aa679807(office.11).aspx#officeinteroperabilitych2_part2_gc)\n",
    "\t[System.GC]::Collect();\n",
    "\t[System.GC]::WaitForPendingFinalizers();\n",
    "\t[System.GC]::Collect();\n",
    "\t[System.GC]::WaitForPendingFinalizers();\n",
    "\n",
    "}"
   ]
  }
 ],
 "metadata": {
  "kernelspec": {
   "display_name": "Python 3",
   "language": "python",
   "name": "python3"
  },
  "language_info": {
   "codemirror_mode": {
    "name": "ipython",
    "version": 3
   },
   "file_extension": ".py",
   "mimetype": "text/x-python",
   "name": "python",
   "nbconvert_exporter": "python",
   "pygments_lexer": "ipython3",
   "version": "3.8.8"
  }
 },
 "nbformat": 4,
 "nbformat_minor": 5
}
